{
 "cells": [
  {
   "cell_type": "markdown",
   "metadata": {},
   "source": [
    "# Exam - Part 3\n",
    "---\n",
    "\n",
    "@ Pranjal Pathak\n"
   ]
  },
  {
   "cell_type": "markdown",
   "metadata": {},
   "source": [
    "# 1. Imports"
   ]
  },
  {
   "cell_type": "code",
   "execution_count": 1,
   "metadata": {},
   "outputs": [
    {
     "name": "stderr",
     "output_type": "stream",
     "text": [
      "2023-12-09 16:13:31.356569: I tensorflow/core/platform/cpu_feature_guard.cc:182] This TensorFlow binary is optimized to use available CPU instructions in performance-critical operations.\n",
      "To enable the following instructions: AVX2 FMA, in other operations, rebuild TensorFlow with the appropriate compiler flags.\n"
     ]
    }
   ],
   "source": [
    "# Standard Imports\n",
    "# python 3.11.1 (stable release)\n",
    "\n",
    "import os\n",
    "import sys\n",
    "import numpy as np\n",
    "import pandas as pd\n",
    "\n",
    "import tensorflow as tf\n",
    "\n",
    "from keras.preprocessing.text import Tokenizer\n",
    "from keras.preprocessing.sequence import pad_sequences\n",
    "from keras.models import Sequential\n",
    "from keras.layers import Embedding, SimpleRNN, LSTM, Dense, BatchNormalization, Dropout, Flatten, Conv1D, MaxPooling1D\n",
    "from keras.optimizers import RMSprop, Adagrad, SGD, Adam\n",
    "from keras.utils import to_categorical\n",
    "\n",
    "from sklearn.utils import shuffle\n",
    "from sklearn.preprocessing import StandardScaler, MinMaxScaler\n",
    "from sklearn.feature_extraction.text import CountVectorizer\n",
    "from sklearn.preprocessing import LabelEncoder\n",
    "from sklearn.model_selection import train_test_split\n",
    "from sklearn.metrics import accuracy_score, precision_recall_fscore_support, confusion_matrix, classification_report, ConfusionMatrixDisplay\n",
    "\n",
    "import matplotlib.pyplot as plt\n",
    "import seaborn as sns\n",
    "\n",
    "import warnings\n",
    "warnings.filterwarnings(\"ignore\")"
   ]
  },
  {
   "cell_type": "markdown",
   "metadata": {},
   "source": [
    "# 2. Datset"
   ]
  },
  {
   "cell_type": "code",
   "execution_count": 2,
   "metadata": {},
   "outputs": [
    {
     "data": {
      "text/plain": [
       "(1493, 301)"
      ]
     },
     "execution_count": 2,
     "metadata": {},
     "output_type": "execute_result"
    }
   ],
   "source": [
    "# dataset stored locally\n",
    "\n",
    "df = pd.read_csv(\"./Final_News_DF_Labeled_ExamDataset.csv\")\n",
    "\n",
    "# shuffling data\n",
    "df = shuffle(df).reset_index(drop=True)\n",
    "\n",
    "df.shape"
   ]
  },
  {
   "cell_type": "code",
   "execution_count": 3,
   "metadata": {},
   "outputs": [
    {
     "data": {
      "text/html": [
       "<div>\n",
       "<style scoped>\n",
       "    .dataframe tbody tr th:only-of-type {\n",
       "        vertical-align: middle;\n",
       "    }\n",
       "\n",
       "    .dataframe tbody tr th {\n",
       "        vertical-align: top;\n",
       "    }\n",
       "\n",
       "    .dataframe thead th {\n",
       "        text-align: right;\n",
       "    }\n",
       "</style>\n",
       "<table border=\"1\" class=\"dataframe\">\n",
       "  <thead>\n",
       "    <tr style=\"text-align: right;\">\n",
       "      <th></th>\n",
       "      <th>LABEL</th>\n",
       "      <th>according</th>\n",
       "      <th>agency</th>\n",
       "      <th>ahead</th>\n",
       "      <th>alabama</th>\n",
       "      <th>amazon</th>\n",
       "      <th>america</th>\n",
       "      <th>american</th>\n",
       "      <th>announced</th>\n",
       "      <th>appeared</th>\n",
       "      <th>...</th>\n",
       "      <th>wolverines</th>\n",
       "      <th>women</th>\n",
       "      <th>work</th>\n",
       "      <th>working</th>\n",
       "      <th>world</th>\n",
       "      <th>wrote</th>\n",
       "      <th>year</th>\n",
       "      <th>years</th>\n",
       "      <th>york</th>\n",
       "      <th>young</th>\n",
       "    </tr>\n",
       "  </thead>\n",
       "  <tbody>\n",
       "    <tr>\n",
       "      <th>0</th>\n",
       "      <td>science</td>\n",
       "      <td>0</td>\n",
       "      <td>0</td>\n",
       "      <td>0</td>\n",
       "      <td>0</td>\n",
       "      <td>0</td>\n",
       "      <td>0</td>\n",
       "      <td>0</td>\n",
       "      <td>0</td>\n",
       "      <td>0</td>\n",
       "      <td>...</td>\n",
       "      <td>0</td>\n",
       "      <td>0</td>\n",
       "      <td>0</td>\n",
       "      <td>0</td>\n",
       "      <td>1</td>\n",
       "      <td>0</td>\n",
       "      <td>0</td>\n",
       "      <td>0</td>\n",
       "      <td>0</td>\n",
       "      <td>0</td>\n",
       "    </tr>\n",
       "    <tr>\n",
       "      <th>1</th>\n",
       "      <td>politics</td>\n",
       "      <td>0</td>\n",
       "      <td>0</td>\n",
       "      <td>0</td>\n",
       "      <td>0</td>\n",
       "      <td>0</td>\n",
       "      <td>0</td>\n",
       "      <td>0</td>\n",
       "      <td>0</td>\n",
       "      <td>0</td>\n",
       "      <td>...</td>\n",
       "      <td>0</td>\n",
       "      <td>0</td>\n",
       "      <td>0</td>\n",
       "      <td>0</td>\n",
       "      <td>0</td>\n",
       "      <td>0</td>\n",
       "      <td>1</td>\n",
       "      <td>0</td>\n",
       "      <td>0</td>\n",
       "      <td>0</td>\n",
       "    </tr>\n",
       "    <tr>\n",
       "      <th>2</th>\n",
       "      <td>science</td>\n",
       "      <td>0</td>\n",
       "      <td>0</td>\n",
       "      <td>0</td>\n",
       "      <td>0</td>\n",
       "      <td>0</td>\n",
       "      <td>0</td>\n",
       "      <td>0</td>\n",
       "      <td>0</td>\n",
       "      <td>0</td>\n",
       "      <td>...</td>\n",
       "      <td>0</td>\n",
       "      <td>0</td>\n",
       "      <td>0</td>\n",
       "      <td>0</td>\n",
       "      <td>0</td>\n",
       "      <td>0</td>\n",
       "      <td>0</td>\n",
       "      <td>0</td>\n",
       "      <td>0</td>\n",
       "      <td>0</td>\n",
       "    </tr>\n",
       "    <tr>\n",
       "      <th>3</th>\n",
       "      <td>politics</td>\n",
       "      <td>0</td>\n",
       "      <td>0</td>\n",
       "      <td>0</td>\n",
       "      <td>0</td>\n",
       "      <td>0</td>\n",
       "      <td>0</td>\n",
       "      <td>0</td>\n",
       "      <td>0</td>\n",
       "      <td>0</td>\n",
       "      <td>...</td>\n",
       "      <td>0</td>\n",
       "      <td>0</td>\n",
       "      <td>0</td>\n",
       "      <td>0</td>\n",
       "      <td>1</td>\n",
       "      <td>0</td>\n",
       "      <td>0</td>\n",
       "      <td>0</td>\n",
       "      <td>0</td>\n",
       "      <td>0</td>\n",
       "    </tr>\n",
       "    <tr>\n",
       "      <th>4</th>\n",
       "      <td>science</td>\n",
       "      <td>0</td>\n",
       "      <td>0</td>\n",
       "      <td>0</td>\n",
       "      <td>0</td>\n",
       "      <td>0</td>\n",
       "      <td>0</td>\n",
       "      <td>0</td>\n",
       "      <td>0</td>\n",
       "      <td>0</td>\n",
       "      <td>...</td>\n",
       "      <td>0</td>\n",
       "      <td>0</td>\n",
       "      <td>0</td>\n",
       "      <td>0</td>\n",
       "      <td>0</td>\n",
       "      <td>0</td>\n",
       "      <td>0</td>\n",
       "      <td>0</td>\n",
       "      <td>0</td>\n",
       "      <td>0</td>\n",
       "    </tr>\n",
       "  </tbody>\n",
       "</table>\n",
       "<p>5 rows × 301 columns</p>\n",
       "</div>"
      ],
      "text/plain": [
       "      LABEL  according  agency  ahead  alabama  amazon  america  american  \\\n",
       "0   science          0       0      0        0       0        0         0   \n",
       "1  politics          0       0      0        0       0        0         0   \n",
       "2   science          0       0      0        0       0        0         0   \n",
       "3  politics          0       0      0        0       0        0         0   \n",
       "4   science          0       0      0        0       0        0         0   \n",
       "\n",
       "   announced  appeared  ...  wolverines  women  work  working  world  wrote  \\\n",
       "0          0         0  ...           0      0     0        0      1      0   \n",
       "1          0         0  ...           0      0     0        0      0      0   \n",
       "2          0         0  ...           0      0     0        0      0      0   \n",
       "3          0         0  ...           0      0     0        0      1      0   \n",
       "4          0         0  ...           0      0     0        0      0      0   \n",
       "\n",
       "   year  years  york  young  \n",
       "0     0      0     0      0  \n",
       "1     1      0     0      0  \n",
       "2     0      0     0      0  \n",
       "3     0      0     0      0  \n",
       "4     0      0     0      0  \n",
       "\n",
       "[5 rows x 301 columns]"
      ]
     },
     "execution_count": 3,
     "metadata": {},
     "output_type": "execute_result"
    }
   ],
   "source": [
    "df.head()"
   ]
  },
  {
   "cell_type": "markdown",
   "metadata": {},
   "source": [
    "# 3. Analysis"
   ]
  },
  {
   "cell_type": "code",
   "execution_count": 4,
   "metadata": {},
   "outputs": [
    {
     "name": "stdout",
     "output_type": "stream",
     "text": [
      "Total Vocab length: 300\n"
     ]
    }
   ],
   "source": [
    "vocab = list(np.unique(df.columns[df.columns!='LABEL'].astype(str)))\n",
    "\n",
    "print(f\"Total Vocab length: {len(vocab)}\")"
   ]
  },
  {
   "cell_type": "code",
   "execution_count": 5,
   "metadata": {},
   "outputs": [
    {
     "data": {
      "text/plain": [
       "['according', 'agency', 'ahead', 'alabama', 'amazon']"
      ]
     },
     "execution_count": 5,
     "metadata": {},
     "output_type": "execute_result"
    }
   ],
   "source": [
    "vocab[:5]"
   ]
  },
  {
   "cell_type": "code",
   "execution_count": 6,
   "metadata": {},
   "outputs": [],
   "source": [
    "# 1st Article"
   ]
  },
  {
   "cell_type": "code",
   "execution_count": 7,
   "metadata": {},
   "outputs": [
    {
     "name": "stdout",
     "output_type": "stream",
     "text": [
      "First cleaned article is:\n",
      "\n",
      " 'human published research world'\n"
     ]
    }
   ],
   "source": [
    "article_1 = dict(zip(df.columns[df.columns!='LABEL'].astype(str), df.iloc[0:1,1:].values.ravel()))\n",
    "\n",
    "text = \" \".join([k for k,v in article_1.items() if int(v)!=0])\n",
    "print(f\"First cleaned article is:\\n\\n \\'{text}\\'\")"
   ]
  },
  {
   "cell_type": "code",
   "execution_count": 8,
   "metadata": {},
   "outputs": [
    {
     "name": "stdout",
     "output_type": "stream",
     "text": [
      "Second cleaned article is:\n",
      "\n",
      " 'culture good international news sports thanksgiving year'\n"
     ]
    }
   ],
   "source": [
    "article_2 = dict(zip(df.columns[df.columns!='LABEL'].astype(str), df.iloc[1:2,1:].values.ravel()))\n",
    "\n",
    "text = \" \".join([k for k,v in article_2.items() if int(v)!=0])\n",
    "print(f\"Second cleaned article is:\\n\\n \\'{text}\\'\")"
   ]
  },
  {
   "cell_type": "code",
   "execution_count": 9,
   "metadata": {},
   "outputs": [
    {
     "data": {
      "text/plain": [
       "<Axes: xlabel='LABEL', ylabel='Count'>"
      ]
     },
     "execution_count": 9,
     "metadata": {},
     "output_type": "execute_result"
    },
    {
     "data": {
      "image/png": "[encoded data removed]",
      "text/plain": [
       "<Figure size 640x480 with 1 Axes>"
      ]
     },
     "metadata": {},
     "output_type": "display_data"
    }
   ],
   "source": [
    "sns.histplot(df.LABEL)"
   ]
  },
  {
   "cell_type": "code",
   "execution_count": 10,
   "metadata": {
    "scrolled": true
   },
   "outputs": [
    {
     "data": {
      "text/plain": [
       "0"
      ]
     },
     "execution_count": 10,
     "metadata": {},
     "output_type": "execute_result"
    }
   ],
   "source": [
    "# any missing values ?\n",
    "\n",
    "df.iloc[:,1:].isna().sum().sum()"
   ]
  },
  {
   "cell_type": "markdown",
   "metadata": {},
   "source": [
    "- 300 unique words\n",
    "- first column is target/label, 3 labels.\n",
    "- responses are balanced so no need for re-sampling techniques\n",
    "- no missing values\n",
    "- Seems to be count-vectorized, values represent the count of words for every article."
   ]
  },
  {
   "cell_type": "markdown",
   "metadata": {},
   "source": [
    "# 4. Data Prep"
   ]
  },
  {
   "cell_type": "code",
   "execution_count": 11,
   "metadata": {},
   "outputs": [],
   "source": [
    "# Data split\n",
    "\n",
    "X_train, X_test, Y_train, Y_test = train_test_split(df.iloc[:, 1:], df['LABEL'], test_size=0.2, random_state=7)"
   ]
  },
  {
   "cell_type": "markdown",
   "metadata": {},
   "source": [
    "#### Prep: Training Data"
   ]
  },
  {
   "cell_type": "code",
   "execution_count": 12,
   "metadata": {},
   "outputs": [
    {
     "name": "stdout",
     "output_type": "stream",
     "text": [
      "Array Format:\n",
      "\n"
     ]
    },
    {
     "data": {
      "text/plain": [
       "array([[0, 0, 0, ..., 0, 0, 0],\n",
       "       [0, 0, 0, ..., 0, 0, 0],\n",
       "       [0, 0, 0, ..., 0, 0, 0],\n",
       "       ...,\n",
       "       [0, 0, 0, ..., 0, 0, 0],\n",
       "       [0, 0, 0, ..., 0, 0, 0],\n",
       "       [0, 0, 0, ..., 0, 0, 0]])"
      ]
     },
     "execution_count": 12,
     "metadata": {},
     "output_type": "execute_result"
    }
   ],
   "source": [
    "# converting to array\n",
    "\n",
    "X_train  = np.array(X_train)\n",
    "X_test   = np.array(X_test)\n",
    "\n",
    "print(\"Array Format:\\n\")\n",
    "X_train"
   ]
  },
  {
   "cell_type": "code",
   "execution_count": 13,
   "metadata": {},
   "outputs": [],
   "source": [
    "# # normalization\n",
    "# # does not improve on results\n",
    "\n",
    "# scaler = StandardScaler()\n",
    "# X_train = scaler.fit_transform(X_train)\n",
    "# X_test = scaler.transform(X_test)\n",
    "\n",
    "# print(\"Normalized Array Format:\\n\")\n",
    "# X_train"
   ]
  },
  {
   "cell_type": "code",
   "execution_count": 14,
   "metadata": {},
   "outputs": [
    {
     "data": {
      "text/plain": [
       "array([[0, 0, 0, 0, 0, 0, 0, 0, 0, 0, 0, 0, 0, 0, 0, 0, 0, 0, 0, 0, 0, 0,\n",
       "        0, 0, 0, 0, 0, 1, 0, 0, 0, 0, 0, 0, 0, 0, 0, 0, 0, 0, 0, 0, 0, 0,\n",
       "        0, 0, 0, 0, 0, 0, 0, 0, 0, 0, 0, 0, 0, 0, 0, 0, 0, 0, 0, 0, 0, 0,\n",
       "        0, 0, 0, 0, 0, 0, 0, 0, 0, 0, 0, 0, 0, 0, 0, 0, 0, 0, 0, 0, 0, 0,\n",
       "        0, 0, 0, 0, 0, 0, 0, 0, 0, 0, 0, 0, 0, 0, 0, 0, 0, 0, 0, 0, 0, 0,\n",
       "        0, 0, 0, 0, 0, 0, 0, 0, 0, 0, 0, 0, 0, 0, 0, 0, 0, 0, 0, 0, 0, 0,\n",
       "        0, 0, 0, 0, 0, 0, 0, 0, 0, 0, 0, 0, 0, 0, 0, 0, 0, 0, 0, 0, 0, 0,\n",
       "        0, 0, 0, 0, 0, 0, 0, 0, 0, 0, 0, 0, 0, 0, 0, 0, 0, 0, 0, 0, 0, 0,\n",
       "        0, 0, 0, 0, 0, 0, 0, 0, 0, 0, 0, 0, 0, 0, 0, 0, 0, 0, 0, 0, 0, 0,\n",
       "        0, 0, 0, 0, 0, 0, 0, 0, 0, 0, 0, 0, 0, 0, 0, 0, 0, 0, 0, 1, 0, 0,\n",
       "        0, 0, 0, 0, 0, 0, 0, 0, 0, 0, 0, 0, 0, 0, 0, 0, 0, 0, 0, 0, 0, 0,\n",
       "        0, 0, 0, 0, 0, 0, 0, 0, 0, 0, 0, 0, 0, 0, 0, 0, 0, 0, 0, 0, 0, 0,\n",
       "        0, 0, 0, 0, 0, 0, 0, 0, 0, 0, 0, 0, 0, 0, 1, 0, 0, 0, 0, 0, 0, 0,\n",
       "        0, 0, 0, 0, 0, 0, 0, 0, 0, 0, 0, 0, 0, 0]])"
      ]
     },
     "execution_count": 14,
     "metadata": {},
     "output_type": "execute_result"
    }
   ],
   "source": [
    "X_train[0:1]"
   ]
  },
  {
   "cell_type": "code",
   "execution_count": 15,
   "metadata": {},
   "outputs": [
    {
     "data": {
      "text/plain": [
       "array([[0, 0, 0, 0, 0, 0, 0, 0, 0, 0, 0, 0, 0, 0, 0, 0, 0, 0, 0, 0, 0, 0,\n",
       "        0, 0, 0, 0, 0, 0, 0, 0, 0, 0, 0, 0, 0, 0, 0, 0, 0, 0, 0, 0, 0, 0,\n",
       "        0, 0, 0, 0, 0, 0, 1, 0, 0, 0, 0, 0, 0, 0, 0, 0, 0, 0, 0, 0, 0, 0,\n",
       "        0, 0, 0, 0, 0, 0, 0, 0, 0, 0, 0, 0, 0, 0, 0, 0, 0, 0, 0, 0, 0, 0,\n",
       "        0, 0, 0, 0, 0, 0, 0, 0, 0, 0, 0, 0, 0, 0, 0, 0, 0, 0, 0, 0, 0, 0,\n",
       "        0, 0, 0, 0, 0, 0, 0, 0, 0, 0, 0, 0, 0, 0, 0, 0, 0, 0, 0, 0, 0, 0,\n",
       "        0, 0, 0, 0, 0, 0, 0, 0, 0, 0, 0, 0, 1, 0, 0, 0, 1, 0, 0, 0, 0, 0,\n",
       "        0, 0, 0, 0, 0, 0, 0, 0, 0, 0, 0, 0, 0, 0, 0, 0, 0, 1, 0, 0, 0, 0,\n",
       "        0, 0, 0, 0, 0, 0, 0, 0, 0, 0, 0, 0, 0, 0, 0, 0, 0, 0, 0, 0, 0, 0,\n",
       "        0, 0, 0, 0, 0, 0, 0, 0, 0, 0, 0, 0, 0, 0, 0, 0, 0, 0, 0, 1, 0, 0,\n",
       "        0, 0, 0, 0, 0, 0, 0, 0, 0, 1, 0, 0, 0, 0, 0, 0, 0, 0, 0, 0, 0, 0,\n",
       "        0, 0, 0, 0, 0, 0, 0, 0, 0, 0, 0, 0, 0, 0, 0, 0, 0, 0, 0, 0, 0, 0,\n",
       "        0, 0, 0, 0, 0, 0, 0, 0, 0, 0, 0, 0, 0, 0, 0, 0, 0, 0, 0, 0, 0, 0,\n",
       "        0, 0, 0, 0, 0, 0, 0, 0, 0, 0, 0, 0, 0, 0]])"
      ]
     },
     "execution_count": 15,
     "metadata": {},
     "output_type": "execute_result"
    }
   ],
   "source": [
    "X_test[0:1]"
   ]
  },
  {
   "cell_type": "code",
   "execution_count": 16,
   "metadata": {
    "scrolled": true
   },
   "outputs": [
    {
     "name": "stdout",
     "output_type": "stream",
     "text": [
      "Final X_train: (1194, 300)\n",
      "Final X_test: (299, 300)\n"
     ]
    }
   ],
   "source": [
    "print(f\"Final X_train: {X_train.shape}\")\n",
    "print(f\"Final X_test: {X_test.shape}\")"
   ]
  },
  {
   "cell_type": "markdown",
   "metadata": {},
   "source": [
    "#### Prep: Target Labels"
   ]
  },
  {
   "cell_type": "code",
   "execution_count": 17,
   "metadata": {},
   "outputs": [
    {
     "name": "stdout",
     "output_type": "stream",
     "text": [
      "Array Format:\n",
      "\n"
     ]
    },
    {
     "data": {
      "text/plain": [
       "array(['science', 'football', 'science', ..., 'football', 'politics',\n",
       "       'politics'], dtype=object)"
      ]
     },
     "execution_count": 17,
     "metadata": {},
     "output_type": "execute_result"
    }
   ],
   "source": [
    "# converting to array\n",
    "\n",
    "Y_train  = Y_train.values.ravel()\n",
    "Y_test   = Y_test.values.ravel()\n",
    "\n",
    "print(\"Array Format:\\n\")\n",
    "Y_train"
   ]
  },
  {
   "cell_type": "code",
   "execution_count": 18,
   "metadata": {},
   "outputs": [
    {
     "name": "stdout",
     "output_type": "stream",
     "text": [
      "['football' 'politics' 'science']\n",
      "\n",
      "Encoded Format:\n"
     ]
    },
    {
     "data": {
      "text/plain": [
       "array([2, 0, 2, ..., 0, 1, 1])"
      ]
     },
     "execution_count": 18,
     "metadata": {},
     "output_type": "execute_result"
    }
   ],
   "source": [
    "# encoding topics to integers\n",
    "\n",
    "label_encoder  = LabelEncoder()\n",
    "Y_train_enc    = label_encoder.fit_transform(Y_train)\n",
    "Y_test_enc     = label_encoder.transform(Y_test)\n",
    "\n",
    "print(label_encoder.classes_)\n",
    "\n",
    "print(\"\\nEncoded Format:\")\n",
    "Y_train_enc"
   ]
  },
  {
   "cell_type": "code",
   "execution_count": 19,
   "metadata": {},
   "outputs": [
    {
     "name": "stdout",
     "output_type": "stream",
     "text": [
      "Reshaped 1D Array Format:\n",
      "\n"
     ]
    },
    {
     "data": {
      "text/plain": [
       "array([[2],\n",
       "       [0],\n",
       "       [2],\n",
       "       ...,\n",
       "       [0],\n",
       "       [1],\n",
       "       [1]])"
      ]
     },
     "execution_count": 19,
     "metadata": {},
     "output_type": "execute_result"
    }
   ],
   "source": [
    "# re-shaping to a 1-D array\n",
    "\n",
    "Y_train_enc    = Y_train_enc.reshape(-1,1)\n",
    "Y_test_enc     = Y_test_enc.reshape(-1,1)\n",
    "\n",
    "print(\"Reshaped 1D Array Format:\\n\")\n",
    "Y_train_enc"
   ]
  },
  {
   "cell_type": "code",
   "execution_count": 20,
   "metadata": {},
   "outputs": [
    {
     "data": {
      "text/plain": [
       "array([[2],\n",
       "       [0],\n",
       "       [2],\n",
       "       [1],\n",
       "       [2]])"
      ]
     },
     "execution_count": 20,
     "metadata": {},
     "output_type": "execute_result"
    }
   ],
   "source": [
    "Y_train_enc[:5]"
   ]
  },
  {
   "cell_type": "code",
   "execution_count": 21,
   "metadata": {
    "scrolled": false
   },
   "outputs": [
    {
     "data": {
      "text/plain": [
       "array([[1],\n",
       "       [1],\n",
       "       [2],\n",
       "       [1],\n",
       "       [1]])"
      ]
     },
     "execution_count": 21,
     "metadata": {},
     "output_type": "execute_result"
    }
   ],
   "source": [
    "Y_test_enc[:5]"
   ]
  },
  {
   "cell_type": "code",
   "execution_count": 22,
   "metadata": {},
   "outputs": [
    {
     "name": "stdout",
     "output_type": "stream",
     "text": [
      "Final Y_train: (1194, 1)\n",
      "Final Y_test: (299, 1)\n"
     ]
    }
   ],
   "source": [
    "print(f\"Final Y_train: {Y_train_enc.shape}\")\n",
    "print(f\"Final Y_test: {Y_test_enc.shape}\")"
   ]
  },
  {
   "cell_type": "markdown",
   "metadata": {},
   "source": [
    "# 5. Modelling"
   ]
  },
  {
   "cell_type": "markdown",
   "metadata": {},
   "source": [
    "#### Categorical Cross Entropy vs Sparse Cross Entropy\n",
    "\n",
    "\n",
    "`Categorical Cross Entropy`: This is used when labels are one-hot encoded. Respectively, in compilation, metrics is chosen as 'accuracy'\n",
    "\n",
    "\n",
    "\n",
    "`Sparse Cross Entropy`: This is used when labels are integers or label encoded. Respectively, in compilation, metrics is chosen as 'sparse_categorical_accuracy'"
   ]
  },
  {
   "cell_type": "code",
   "execution_count": 23,
   "metadata": {},
   "outputs": [
    {
     "data": {
      "text/plain": [
       "300"
      ]
     },
     "execution_count": 23,
     "metadata": {},
     "output_type": "execute_result"
    }
   ],
   "source": [
    "# total count of unique words (max integer index of vocab + 1)\n",
    "vocab_size = len(vocab)\n",
    "vocab_size"
   ]
  },
  {
   "cell_type": "markdown",
   "metadata": {},
   "source": [
    "### 1. ANN"
   ]
  },
  {
   "cell_type": "code",
   "execution_count": 24,
   "metadata": {},
   "outputs": [
    {
     "name": "stdout",
     "output_type": "stream",
     "text": [
      "Model: \"sequential\"\n",
      "_________________________________________________________________\n",
      " Layer (type)                Output Shape              Param #   \n",
      "=================================================================\n",
      " embedding (Embedding)       (None, 300, 32)           9600      \n",
      "                                                                 \n",
      " flatten (Flatten)           (None, 9600)              0         \n",
      "                                                                 \n",
      " dense (Dense)               (None, 32)                307232    \n",
      "                                                                 \n",
      " dense_1 (Dense)             (None, 16)                528       \n",
      "                                                                 \n",
      " dropout (Dropout)           (None, 16)                0         \n",
      "                                                                 \n",
      " dense_2 (Dense)             (None, 8)                 136       \n",
      "                                                                 \n",
      " dropout_1 (Dropout)         (None, 8)                 0         \n",
      "                                                                 \n",
      " dense_3 (Dense)             (None, 3)                 27        \n",
      "                                                                 \n",
      "=================================================================\n",
      "Total params: 317523 (1.21 MB)\n",
      "Trainable params: 317523 (1.21 MB)\n",
      "Non-trainable params: 0 (0.00 Byte)\n",
      "_________________________________________________________________\n"
     ]
    }
   ],
   "source": [
    "###############################\n",
    "## ANN\n",
    "###############################\n",
    "\n",
    "# model definition\n",
    "ann_model = Sequential()\n",
    "\n",
    "# architecture\n",
    "ann_model.add(Embedding(input_dim=vocab_size, output_dim=32, input_length=X_train.shape[1]))\n",
    "ann_model.add(Flatten())\n",
    "ann_model.add(Dense(32, activation='relu'))\n",
    "ann_model.add(Dense(16, activation='relu'))\n",
    "ann_model.add(Dropout(.5))\n",
    "ann_model.add(Dense(8, activation='relu'))\n",
    "ann_model.add(Dropout(.5))\n",
    "ann_model.add(Dense(3, activation='softmax'))\n",
    "\n",
    "# summary\n",
    "ann_model.summary()"
   ]
  },
  {
   "cell_type": "code",
   "execution_count": 25,
   "metadata": {
    "collapsed": true
   },
   "outputs": [
    {
     "name": "stdout",
     "output_type": "stream",
     "text": [
      "Epoch 1/20\n",
      "38/38 [==============================] - 1s 8ms/step - loss: 1.1047 - sparse_categorical_accuracy: 0.3233 - val_loss: 1.0934 - val_sparse_categorical_accuracy: 0.3344\n",
      "Epoch 2/20\n",
      "38/38 [==============================] - 0s 4ms/step - loss: 1.0761 - sparse_categorical_accuracy: 0.3786 - val_loss: 1.0452 - val_sparse_categorical_accuracy: 0.4080\n",
      "Epoch 3/20\n",
      "38/38 [==============================] - 0s 4ms/step - loss: 1.0269 - sparse_categorical_accuracy: 0.4464 - val_loss: 0.9858 - val_sparse_categorical_accuracy: 0.5686\n",
      "Epoch 4/20\n",
      "38/38 [==============================] - 0s 4ms/step - loss: 0.9765 - sparse_categorical_accuracy: 0.5050 - val_loss: 0.9214 - val_sparse_categorical_accuracy: 0.6488\n",
      "Epoch 5/20\n",
      "38/38 [==============================] - 0s 4ms/step - loss: 0.8840 - sparse_categorical_accuracy: 0.5452 - val_loss: 0.8060 - val_sparse_categorical_accuracy: 0.6522\n",
      "Epoch 6/20\n",
      "38/38 [==============================] - 0s 4ms/step - loss: 0.8111 - sparse_categorical_accuracy: 0.6374 - val_loss: 0.7418 - val_sparse_categorical_accuracy: 0.7224\n",
      "Epoch 7/20\n",
      "38/38 [==============================] - 0s 4ms/step - loss: 0.7636 - sparse_categorical_accuracy: 0.6466 - val_loss: 0.7034 - val_sparse_categorical_accuracy: 0.7258\n",
      "Epoch 8/20\n",
      "38/38 [==============================] - 0s 4ms/step - loss: 0.7375 - sparse_categorical_accuracy: 0.6491 - val_loss: 0.6957 - val_sparse_categorical_accuracy: 0.7258\n",
      "Epoch 9/20\n",
      "38/38 [==============================] - 0s 4ms/step - loss: 0.7026 - sparse_categorical_accuracy: 0.6776 - val_loss: 0.6847 - val_sparse_categorical_accuracy: 0.7324\n",
      "Epoch 10/20\n",
      "38/38 [==============================] - 0s 4ms/step - loss: 0.6409 - sparse_categorical_accuracy: 0.6935 - val_loss: 0.6946 - val_sparse_categorical_accuracy: 0.7258\n",
      "Epoch 11/20\n",
      "38/38 [==============================] - 0s 4ms/step - loss: 0.6193 - sparse_categorical_accuracy: 0.7094 - val_loss: 0.7067 - val_sparse_categorical_accuracy: 0.7090\n",
      "Epoch 12/20\n",
      "38/38 [==============================] - 0s 4ms/step - loss: 0.6062 - sparse_categorical_accuracy: 0.7312 - val_loss: 0.7040 - val_sparse_categorical_accuracy: 0.7291\n",
      "Epoch 13/20\n",
      "38/38 [==============================] - 0s 4ms/step - loss: 0.5719 - sparse_categorical_accuracy: 0.7479 - val_loss: 0.7155 - val_sparse_categorical_accuracy: 0.7358\n",
      "Epoch 14/20\n",
      "38/38 [==============================] - 0s 4ms/step - loss: 0.5787 - sparse_categorical_accuracy: 0.7387 - val_loss: 0.7287 - val_sparse_categorical_accuracy: 0.7391\n",
      "Epoch 15/20\n",
      "38/38 [==============================] - 0s 4ms/step - loss: 0.5438 - sparse_categorical_accuracy: 0.7688 - val_loss: 0.7402 - val_sparse_categorical_accuracy: 0.7358\n",
      "Epoch 16/20\n",
      "38/38 [==============================] - 0s 4ms/step - loss: 0.5329 - sparse_categorical_accuracy: 0.7747 - val_loss: 0.7863 - val_sparse_categorical_accuracy: 0.7391\n",
      "Epoch 17/20\n",
      "38/38 [==============================] - 0s 4ms/step - loss: 0.5188 - sparse_categorical_accuracy: 0.7848 - val_loss: 0.8237 - val_sparse_categorical_accuracy: 0.7191\n",
      "Epoch 18/20\n",
      "38/38 [==============================] - 0s 4ms/step - loss: 0.5121 - sparse_categorical_accuracy: 0.7940 - val_loss: 0.8408 - val_sparse_categorical_accuracy: 0.7191\n",
      "Epoch 19/20\n",
      "38/38 [==============================] - 0s 4ms/step - loss: 0.5090 - sparse_categorical_accuracy: 0.7806 - val_loss: 0.8831 - val_sparse_categorical_accuracy: 0.7157\n",
      "Epoch 20/20\n",
      "38/38 [==============================] - 0s 4ms/step - loss: 0.4853 - sparse_categorical_accuracy: 0.7923 - val_loss: 0.8928 - val_sparse_categorical_accuracy: 0.7124\n"
     ]
    }
   ],
   "source": [
    "# Compile ANN\n",
    "ann_model.compile(loss='sparse_categorical_crossentropy', \n",
    "                  optimizer='adam', \n",
    "                  metrics=['sparse_categorical_accuracy'])\n",
    "\n",
    "# Fit model\n",
    "ann_history = ann_model.fit(X_train, Y_train_enc, validation_data=(X_test, Y_test_enc), epochs=20)"
   ]
  },
  {
   "cell_type": "markdown",
   "metadata": {},
   "source": [
    "### 2. CNN"
   ]
  },
  {
   "cell_type": "code",
   "execution_count": 26,
   "metadata": {},
   "outputs": [
    {
     "name": "stdout",
     "output_type": "stream",
     "text": [
      "Model: \"sequential_1\"\n",
      "_________________________________________________________________\n",
      " Layer (type)                Output Shape              Param #   \n",
      "=================================================================\n",
      " embedding_1 (Embedding)     (None, 300, 50)           15000     \n",
      "                                                                 \n",
      " conv1d (Conv1D)             (None, 298, 128)          19328     \n",
      "                                                                 \n",
      " max_pooling1d (MaxPooling1  (None, 149, 128)          0         \n",
      " D)                                                              \n",
      "                                                                 \n",
      " dropout_2 (Dropout)         (None, 149, 128)          0         \n",
      "                                                                 \n",
      " conv1d_1 (Conv1D)           (None, 147, 64)           24640     \n",
      "                                                                 \n",
      " max_pooling1d_1 (MaxPoolin  (None, 73, 64)            0         \n",
      " g1D)                                                            \n",
      "                                                                 \n",
      " dropout_3 (Dropout)         (None, 73, 64)            0         \n",
      "                                                                 \n",
      " flatten_1 (Flatten)         (None, 4672)              0         \n",
      "                                                                 \n",
      " dense_4 (Dense)             (None, 64)                299072    \n",
      "                                                                 \n",
      " dense_5 (Dense)             (None, 3)                 195       \n",
      "                                                                 \n",
      "=================================================================\n",
      "Total params: 358235 (1.37 MB)\n",
      "Trainable params: 358235 (1.37 MB)\n",
      "Non-trainable params: 0 (0.00 Byte)\n",
      "_________________________________________________________________\n"
     ]
    }
   ],
   "source": [
    "###############################\n",
    "## CNN\n",
    "###############################\n",
    "\n",
    "# model definition\n",
    "cnn_model = Sequential()\n",
    "\n",
    "# architecture\n",
    "cnn_model.add(Embedding(input_dim=vocab_size, output_dim=50, input_length=X_train.shape[1]))\n",
    "cnn_model.add(Conv1D(128, 3, activation='relu'))\n",
    "cnn_model.add(MaxPooling1D(2))\n",
    "cnn_model.add(Dropout(0.2))\n",
    "cnn_model.add(Conv1D(64, 3, activation='relu'))\n",
    "cnn_model.add(MaxPooling1D(2))\n",
    "cnn_model.add(Dropout(0.2))\n",
    "cnn_model.add(Flatten())\n",
    "cnn_model.add(Dense(64, activation='relu'))\n",
    "cnn_model.add(Dense(3, activation='softmax'))\n",
    "\n",
    "# summary\n",
    "cnn_model.summary()"
   ]
  },
  {
   "cell_type": "code",
   "execution_count": 27,
   "metadata": {
    "collapsed": true
   },
   "outputs": [
    {
     "name": "stdout",
     "output_type": "stream",
     "text": [
      "Epoch 1/20\n",
      "38/38 [==============================] - 2s 35ms/step - loss: 1.0618 - sparse_categorical_accuracy: 0.4313\n",
      "Epoch 2/20\n",
      "38/38 [==============================] - 1s 33ms/step - loss: 0.7734 - sparse_categorical_accuracy: 0.6407\n",
      "Epoch 3/20\n",
      "38/38 [==============================] - 1s 32ms/step - loss: 0.6089 - sparse_categorical_accuracy: 0.7420\n",
      "Epoch 4/20\n",
      "38/38 [==============================] - 1s 33ms/step - loss: 0.4894 - sparse_categorical_accuracy: 0.7940\n",
      "Epoch 5/20\n",
      "38/38 [==============================] - 1s 34ms/step - loss: 0.4054 - sparse_categorical_accuracy: 0.8291\n",
      "Epoch 6/20\n",
      "38/38 [==============================] - 1s 34ms/step - loss: 0.3408 - sparse_categorical_accuracy: 0.8451\n",
      "Epoch 7/20\n",
      "38/38 [==============================] - 1s 34ms/step - loss: 0.2713 - sparse_categorical_accuracy: 0.8853\n",
      "Epoch 8/20\n",
      "38/38 [==============================] - 1s 33ms/step - loss: 0.2358 - sparse_categorical_accuracy: 0.8995\n",
      "Epoch 9/20\n",
      "38/38 [==============================] - 1s 35ms/step - loss: 0.2072 - sparse_categorical_accuracy: 0.9104\n",
      "Epoch 10/20\n",
      "38/38 [==============================] - 1s 35ms/step - loss: 0.1682 - sparse_categorical_accuracy: 0.9238\n",
      "Epoch 11/20\n",
      "38/38 [==============================] - 1s 35ms/step - loss: 0.1773 - sparse_categorical_accuracy: 0.9213\n",
      "Epoch 12/20\n",
      "38/38 [==============================] - 1s 35ms/step - loss: 0.1743 - sparse_categorical_accuracy: 0.9305\n",
      "Epoch 13/20\n",
      "38/38 [==============================] - 1s 35ms/step - loss: 0.1465 - sparse_categorical_accuracy: 0.9330\n",
      "Epoch 14/20\n",
      "38/38 [==============================] - 1s 35ms/step - loss: 0.1542 - sparse_categorical_accuracy: 0.9347\n",
      "Epoch 15/20\n",
      "38/38 [==============================] - 1s 36ms/step - loss: 0.1423 - sparse_categorical_accuracy: 0.9330\n",
      "Epoch 16/20\n",
      "38/38 [==============================] - 1s 34ms/step - loss: 0.1359 - sparse_categorical_accuracy: 0.9380\n",
      "Epoch 17/20\n",
      "38/38 [==============================] - 1s 35ms/step - loss: 0.1309 - sparse_categorical_accuracy: 0.9397\n",
      "Epoch 18/20\n",
      "38/38 [==============================] - 1s 35ms/step - loss: 0.1279 - sparse_categorical_accuracy: 0.9380\n",
      "Epoch 19/20\n",
      "38/38 [==============================] - 1s 34ms/step - loss: 0.1299 - sparse_categorical_accuracy: 0.9397\n",
      "Epoch 20/20\n",
      "38/38 [==============================] - 1s 34ms/step - loss: 0.1271 - sparse_categorical_accuracy: 0.9414\n"
     ]
    }
   ],
   "source": [
    "# Compile CNN\n",
    "cnn_model.compile(loss='sparse_categorical_crossentropy', \n",
    "                  optimizer='adam', \n",
    "                  metrics=['sparse_categorical_accuracy'])\n",
    "\n",
    "# Fit model\n",
    "cnn_history = cnn_model.fit(X_train, Y_train_enc, epochs=20)"
   ]
  },
  {
   "cell_type": "markdown",
   "metadata": {},
   "source": [
    "### 3. LSTM"
   ]
  },
  {
   "cell_type": "code",
   "execution_count": 47,
   "metadata": {},
   "outputs": [
    {
     "name": "stdout",
     "output_type": "stream",
     "text": [
      "Model: \"sequential_3\"\n",
      "_________________________________________________________________\n",
      " Layer (type)                Output Shape              Param #   \n",
      "=================================================================\n",
      " embedding_3 (Embedding)     (None, 300, 50)           15000     \n",
      "                                                                 \n",
      " lstm_2 (LSTM)               (None, 300, 128)          91648     \n",
      "                                                                 \n",
      " lstm_3 (LSTM)               (None, 64)                49408     \n",
      "                                                                 \n",
      " batch_normalization_1 (Bat  (None, 64)                256       \n",
      " chNormalization)                                                \n",
      "                                                                 \n",
      " dense_8 (Dense)             (None, 64)                4160      \n",
      "                                                                 \n",
      " dense_9 (Dense)             (None, 3)                 195       \n",
      "                                                                 \n",
      "=================================================================\n",
      "Total params: 160667 (627.61 KB)\n",
      "Trainable params: 160539 (627.11 KB)\n",
      "Non-trainable params: 128 (512.00 Byte)\n",
      "_________________________________________________________________\n"
     ]
    }
   ],
   "source": [
    "###############################\n",
    "## LSTM\n",
    "###############################\n",
    "\n",
    "# Model architecture\n",
    "rnn_model = Sequential()\n",
    "\n",
    "# architecture\n",
    "rnn_model.add(Embedding(input_dim=vocab_size, output_dim=50, input_length=X_train.shape[1]))\n",
    "rnn_model.add(LSTM(128, return_sequences=True, dropout=0.2, recurrent_dropout=0.2))\n",
    "rnn_model.add(LSTM(64))\n",
    "rnn_model.add(BatchNormalization())\n",
    "rnn_model.add(Dense(64, activation='relu'))\n",
    "rnn_model.add(Dense(3, activation='softmax'))\n",
    "\n",
    "# summary\n",
    "rnn_model.summary()"
   ]
  },
  {
   "cell_type": "code",
   "execution_count": 48,
   "metadata": {
    "collapsed": true
   },
   "outputs": [
    {
     "name": "stdout",
     "output_type": "stream",
     "text": [
      "Epoch 1/25\n",
      "38/38 [==============================] - 16s 325ms/step - loss: 1.0803 - sparse_categorical_accuracy: 0.3928\n",
      "Epoch 2/25\n",
      "38/38 [==============================] - 14s 377ms/step - loss: 1.0579 - sparse_categorical_accuracy: 0.4338\n",
      "Epoch 3/25\n",
      "38/38 [==============================] - 21s 557ms/step - loss: 1.0317 - sparse_categorical_accuracy: 0.4305\n",
      "Epoch 4/25\n",
      "38/38 [==============================] - 16s 424ms/step - loss: 1.0423 - sparse_categorical_accuracy: 0.4296\n",
      "Epoch 5/25\n",
      "38/38 [==============================] - 16s 430ms/step - loss: 1.0213 - sparse_categorical_accuracy: 0.4749\n",
      "Epoch 6/25\n",
      "38/38 [==============================] - 17s 441ms/step - loss: 1.0077 - sparse_categorical_accuracy: 0.4891\n",
      "Epoch 7/25\n",
      "38/38 [==============================] - 16s 423ms/step - loss: 1.0122 - sparse_categorical_accuracy: 0.4690\n",
      "Epoch 8/25\n",
      "38/38 [==============================] - 16s 432ms/step - loss: 1.0061 - sparse_categorical_accuracy: 0.4941\n",
      "Epoch 9/25\n",
      "38/38 [==============================] - 21s 560ms/step - loss: 1.0011 - sparse_categorical_accuracy: 0.4774\n",
      "Epoch 10/25\n",
      "38/38 [==============================] - 15s 401ms/step - loss: 0.9995 - sparse_categorical_accuracy: 0.4791\n",
      "Epoch 11/25\n",
      "38/38 [==============================] - 17s 441ms/step - loss: 0.9971 - sparse_categorical_accuracy: 0.4832\n",
      "Epoch 12/25\n",
      "38/38 [==============================] - 16s 423ms/step - loss: 0.9897 - sparse_categorical_accuracy: 0.4950\n",
      "Epoch 13/25\n",
      "38/38 [==============================] - 17s 444ms/step - loss: 0.9968 - sparse_categorical_accuracy: 0.4849\n",
      "Epoch 14/25\n",
      "38/38 [==============================] - 17s 459ms/step - loss: 0.9812 - sparse_categorical_accuracy: 0.4941\n",
      "Epoch 15/25\n",
      "38/38 [==============================] - 19s 488ms/step - loss: 0.9797 - sparse_categorical_accuracy: 0.5059\n",
      "Epoch 16/25\n",
      "38/38 [==============================] - 15s 396ms/step - loss: 0.9738 - sparse_categorical_accuracy: 0.5025\n",
      "Epoch 17/25\n",
      "38/38 [==============================] - 15s 402ms/step - loss: 0.9863 - sparse_categorical_accuracy: 0.4941\n",
      "Epoch 18/25\n",
      "38/38 [==============================] - 18s 489ms/step - loss: 0.9800 - sparse_categorical_accuracy: 0.5101\n",
      "Epoch 19/25\n",
      "38/38 [==============================] - 19s 487ms/step - loss: 0.9690 - sparse_categorical_accuracy: 0.4925\n",
      "Epoch 20/25\n",
      "38/38 [==============================] - 16s 411ms/step - loss: 0.9879 - sparse_categorical_accuracy: 0.4933\n",
      "Epoch 21/25\n",
      "38/38 [==============================] - 16s 409ms/step - loss: 0.9714 - sparse_categorical_accuracy: 0.5059\n",
      "Epoch 22/25\n",
      "38/38 [==============================] - 22s 582ms/step - loss: 0.9721 - sparse_categorical_accuracy: 0.4841\n",
      "Epoch 23/25\n",
      "38/38 [==============================] - 13s 348ms/step - loss: 0.9711 - sparse_categorical_accuracy: 0.5092\n",
      "Epoch 24/25\n",
      "38/38 [==============================] - 16s 415ms/step - loss: 0.9624 - sparse_categorical_accuracy: 0.5017\n",
      "Epoch 25/25\n",
      "38/38 [==============================] - 19s 502ms/step - loss: 0.9623 - sparse_categorical_accuracy: 0.5134\n"
     ]
    }
   ],
   "source": [
    "# Compile LSTM-RNN\n",
    "rnn_model.compile(loss='sparse_categorical_crossentropy', \n",
    "                  optimizer='adam', \n",
    "                  metrics=['sparse_categorical_accuracy'])\n",
    "\n",
    "# Fit model\n",
    "rnn_history = rnn_model.fit(X_train, Y_train_enc, epochs=25, batch_size=32)"
   ]
  },
  {
   "cell_type": "markdown",
   "metadata": {},
   "source": [
    "# 6. Performance"
   ]
  },
  {
   "cell_type": "code",
   "execution_count": 30,
   "metadata": {},
   "outputs": [],
   "source": [
    "def compute_metrics(y_test, y_pred):\n",
    "    accuracy                  = accuracy_score(y_test, y_pred)\n",
    "    precision, recall, f1, _  = precision_recall_fscore_support(y_test, y_pred, average='weighted')\n",
    "    cm                        = confusion_matrix(y_test, y_pred)\n",
    "    creport                   = classification_report(y_test, y_pred)\n",
    "    cmd                       = ConfusionMatrixDisplay(cm)\n",
    "    print(f\"~~~ Model Metrics ~~~\\\n",
    "          \\n\\nAccuracy:\\t{round(accuracy*100, 3)} %\\\n",
    "          \\nPrecision:\\t{round(precision*100, 3)} %\\\n",
    "          \\nRecall:\\t\\t{round(recall*100, 3)} %\\\n",
    "          \\nF-1 Score:\\t{round(f1*100, 3)} %\\\n",
    "          \\n\\nConfusion Matrix:\\n{cm}\\\n",
    "          \\n\\nConfusion Report:\\n{creport}\")\n",
    "    return cmd"
   ]
  },
  {
   "cell_type": "markdown",
   "metadata": {},
   "source": [
    "### Performance of Model 1: ANN"
   ]
  },
  {
   "cell_type": "code",
   "execution_count": 31,
   "metadata": {
    "collapsed": true
   },
   "outputs": [
    {
     "data": {
      "text/plain": [
       "<matplotlib.legend.Legend at 0x7f8fc1c632b0>"
      ]
     },
     "execution_count": 31,
     "metadata": {},
     "output_type": "execute_result"
    },
    {
     "data": {
      "image/png": "[encoded data removed]",
      "text/plain": [
       "<Figure size 640x480 with 1 Axes>"
      ]
     },
     "metadata": {},
     "output_type": "display_data"
    }
   ],
   "source": [
    "# Plot for Loss over n epochs\n",
    "\n",
    "plt.plot(ann_history.history['loss'], label='loss')\n",
    "plt.xlabel('Epoch')\n",
    "plt.ylabel('Loss')\n",
    "plt.ylim([0.0, 5.0])\n",
    "plt.legend(loc='upper right')"
   ]
  },
  {
   "cell_type": "code",
   "execution_count": 32,
   "metadata": {
    "collapsed": true
   },
   "outputs": [
    {
     "data": {
      "text/plain": [
       "<matplotlib.legend.Legend at 0x7f8fc1ccf460>"
      ]
     },
     "execution_count": 32,
     "metadata": {},
     "output_type": "execute_result"
    },
    {
     "data": {
      "image/png": "[encoded data removed]",
      "text/plain": [
       "<Figure size 640x480 with 1 Axes>"
      ]
     },
     "metadata": {},
     "output_type": "display_data"
    }
   ],
   "source": [
    "# Plot for Accuracy over n epochs\n",
    "\n",
    "plt.plot(ann_history.history['sparse_categorical_accuracy'], label='accuracy')\n",
    "plt.xlabel('Epoch')\n",
    "plt.ylabel('Accuracy')\n",
    "plt.ylim([0.0, 1.1])\n",
    "plt.legend(loc='lower right')"
   ]
  },
  {
   "cell_type": "code",
   "execution_count": 33,
   "metadata": {},
   "outputs": [
    {
     "name": "stdout",
     "output_type": "stream",
     "text": [
      "10/10 - 0s - loss: 0.8928 - sparse_categorical_accuracy: 0.7124 - 40ms/epoch - 4ms/step\n",
      "\n",
      "loss_test: 0.8928089141845703\n",
      "acc_test: 0.7123745679855347\n"
     ]
    }
   ],
   "source": [
    "# evaluation on testing data\n",
    "\n",
    "loss_test, acc_test = ann_model.evaluate(X_test, Y_test_enc, verbose=2)\n",
    "\n",
    "# predict probabilities\n",
    "y_hat_enc = ann_model.predict(X_test, verbose=0)\n",
    "y_hat_enc = np.argmax(y_hat_enc, axis=1)\n",
    "\n",
    "# decode integers back to str categories\n",
    "y_hat     = label_encoder.inverse_transform(y_hat_enc)\n",
    "\n",
    "print(\"\\nloss_test:\", loss_test)\n",
    "print(\"acc_test:\", acc_test)"
   ]
  },
  {
   "cell_type": "code",
   "execution_count": 34,
   "metadata": {},
   "outputs": [
    {
     "name": "stdout",
     "output_type": "stream",
     "text": [
      "~~~ Model Metrics ~~~          \n",
      "\n",
      "Accuracy:\t71.237 %          \n",
      "Precision:\t71.271 %          \n",
      "Recall:\t\t71.237 %          \n",
      "F-1 Score:\t71.219 %          \n",
      "\n",
      "Confusion Matrix:\n",
      "[[82  9 14]\n",
      " [15 61 20]\n",
      " [ 7 21 70]]          \n",
      "\n",
      "Confusion Report:\n",
      "              precision    recall  f1-score   support\n",
      "\n",
      "           0       0.79      0.78      0.78       105\n",
      "           1       0.67      0.64      0.65        96\n",
      "           2       0.67      0.71      0.69        98\n",
      "\n",
      "    accuracy                           0.71       299\n",
      "   macro avg       0.71      0.71      0.71       299\n",
      "weighted avg       0.71      0.71      0.71       299\n",
      "\n"
     ]
    }
   ],
   "source": [
    "cmd = compute_metrics(Y_test_enc, y_hat_enc)"
   ]
  },
  {
   "cell_type": "code",
   "execution_count": 35,
   "metadata": {},
   "outputs": [
    {
     "data": {
      "text/plain": [
       "<sklearn.metrics._plot.confusion_matrix.ConfusionMatrixDisplay at 0x7f8fba941e70>"
      ]
     },
     "execution_count": 35,
     "metadata": {},
     "output_type": "execute_result"
    },
    {
     "data": {
      "image/png": "[encoded data removed]",
      "text/plain": [
       "<Figure size 640x480 with 2 Axes>"
      ]
     },
     "metadata": {},
     "output_type": "display_data"
    }
   ],
   "source": [
    "cmd.plot()"
   ]
  },
  {
   "cell_type": "markdown",
   "metadata": {},
   "source": [
    "### Performance of Model 2: CNN"
   ]
  },
  {
   "cell_type": "code",
   "execution_count": 36,
   "metadata": {
    "collapsed": true
   },
   "outputs": [
    {
     "data": {
      "text/plain": [
       "<matplotlib.legend.Legend at 0x7f8f981ea140>"
      ]
     },
     "execution_count": 36,
     "metadata": {},
     "output_type": "execute_result"
    },
    {
     "data": {
      "image/png": "[encoded data removed]",
      "text/plain": [
       "<Figure size 640x480 with 1 Axes>"
      ]
     },
     "metadata": {},
     "output_type": "display_data"
    }
   ],
   "source": [
    "# Plot for Loss over n epochs\n",
    "\n",
    "plt.plot(cnn_history.history['loss'], label='loss')\n",
    "plt.xlabel('Epoch')\n",
    "plt.ylabel('Loss')\n",
    "plt.ylim([0.0, 5.0])\n",
    "plt.legend(loc='upper right')"
   ]
  },
  {
   "cell_type": "code",
   "execution_count": 37,
   "metadata": {
    "collapsed": true
   },
   "outputs": [
    {
     "data": {
      "text/plain": [
       "<matplotlib.legend.Legend at 0x7f8f981bb790>"
      ]
     },
     "execution_count": 37,
     "metadata": {},
     "output_type": "execute_result"
    },
    {
     "data": {
      "image/png": "[encoded data removed]",
      "text/plain": [
       "<Figure size 640x480 with 1 Axes>"
      ]
     },
     "metadata": {},
     "output_type": "display_data"
    }
   ],
   "source": [
    "# Plot for Accuracy over n epochs\n",
    "\n",
    "plt.plot(cnn_history.history['sparse_categorical_accuracy'], label='accuracy')\n",
    "plt.xlabel('Epoch')\n",
    "plt.ylabel('Accuracy')\n",
    "plt.ylim([0.0, 1.1])\n",
    "plt.legend(loc='lower right')"
   ]
  },
  {
   "cell_type": "code",
   "execution_count": 38,
   "metadata": {},
   "outputs": [
    {
     "name": "stdout",
     "output_type": "stream",
     "text": [
      "10/10 - 0s - loss: 1.6946 - sparse_categorical_accuracy: 0.6856 - 266ms/epoch - 27ms/step\n",
      "\n",
      "loss_test: 1.6945868730545044\n",
      "acc_test: 0.6856187582015991\n"
     ]
    }
   ],
   "source": [
    "# evaluation on testing data\n",
    "\n",
    "loss_test, acc_test = cnn_model.evaluate(X_test, Y_test_enc, verbose=2)\n",
    "\n",
    "# predict probabilities\n",
    "y_hat_enc = cnn_model.predict(X_test, verbose=0)\n",
    "y_hat_enc = np.argmax(y_hat_enc, axis=1)\n",
    "\n",
    "# decode integers back to str categories\n",
    "y_hat     = label_encoder.inverse_transform(y_hat_enc)\n",
    "\n",
    "print(\"\\nloss_test:\", loss_test)\n",
    "print(\"acc_test:\", acc_test)"
   ]
  },
  {
   "cell_type": "code",
   "execution_count": 39,
   "metadata": {},
   "outputs": [
    {
     "name": "stdout",
     "output_type": "stream",
     "text": [
      "~~~ Model Metrics ~~~          \n",
      "\n",
      "Accuracy:\t68.562 %          \n",
      "Precision:\t68.655 %          \n",
      "Recall:\t\t68.562 %          \n",
      "F-1 Score:\t68.504 %          \n",
      "\n",
      "Confusion Matrix:\n",
      "[[79 12 14]\n",
      " [13 58 25]\n",
      " [14 16 68]]          \n",
      "\n",
      "Confusion Report:\n",
      "              precision    recall  f1-score   support\n",
      "\n",
      "           0       0.75      0.75      0.75       105\n",
      "           1       0.67      0.60      0.64        96\n",
      "           2       0.64      0.69      0.66        98\n",
      "\n",
      "    accuracy                           0.69       299\n",
      "   macro avg       0.69      0.68      0.68       299\n",
      "weighted avg       0.69      0.69      0.69       299\n",
      "\n"
     ]
    }
   ],
   "source": [
    "cmd = compute_metrics(Y_test_enc, y_hat_enc)"
   ]
  },
  {
   "cell_type": "code",
   "execution_count": 40,
   "metadata": {},
   "outputs": [
    {
     "data": {
      "text/plain": [
       "<sklearn.metrics._plot.confusion_matrix.ConfusionMatrixDisplay at 0x7f8fbd303970>"
      ]
     },
     "execution_count": 40,
     "metadata": {},
     "output_type": "execute_result"
    },
    {
     "data": {
      "image/png": "[encoded data removed]",
      "text/plain": [
       "<Figure size 640x480 with 2 Axes>"
      ]
     },
     "metadata": {},
     "output_type": "display_data"
    }
   ],
   "source": [
    "cmd.plot()"
   ]
  },
  {
   "cell_type": "markdown",
   "metadata": {},
   "source": [
    "### Performance of Model 3: LSTM-RNN"
   ]
  },
  {
   "cell_type": "code",
   "execution_count": 41,
   "metadata": {
    "collapsed": true
   },
   "outputs": [
    {
     "data": {
      "text/plain": [
       "<matplotlib.legend.Legend at 0x7f8f9870a5c0>"
      ]
     },
     "execution_count": 41,
     "metadata": {},
     "output_type": "execute_result"
    },
    {
     "data": {
      "image/png": "[encoded data removed]",
      "text/plain": [
       "<Figure size 640x480 with 1 Axes>"
      ]
     },
     "metadata": {},
     "output_type": "display_data"
    }
   ],
   "source": [
    "# Plot for Loss over n epochs\n",
    "\n",
    "plt.plot(rnn_history.history['loss'], label='loss')\n",
    "plt.xlabel('Epoch')\n",
    "plt.ylabel('Loss')\n",
    "plt.ylim([0.0, 5.0])\n",
    "plt.legend(loc='upper right')"
   ]
  },
  {
   "cell_type": "code",
   "execution_count": 42,
   "metadata": {
    "collapsed": true
   },
   "outputs": [
    {
     "data": {
      "text/plain": [
       "<matplotlib.legend.Legend at 0x7f8f987833d0>"
      ]
     },
     "execution_count": 42,
     "metadata": {},
     "output_type": "execute_result"
    },
    {
     "data": {
      "image/png": "[encoded data removed]",
      "text/plain": [
       "<Figure size 640x480 with 1 Axes>"
      ]
     },
     "metadata": {},
     "output_type": "display_data"
    }
   ],
   "source": [
    "# Plot for Accuracy over n epochs\n",
    "\n",
    "plt.plot(rnn_history.history['sparse_categorical_accuracy'], label='accuracy')\n",
    "plt.xlabel('Epoch')\n",
    "plt.ylabel('Accuracy')\n",
    "plt.ylim([0.0, 1.1])\n",
    "plt.legend(loc='lower right')"
   ]
  },
  {
   "cell_type": "code",
   "execution_count": 43,
   "metadata": {},
   "outputs": [
    {
     "name": "stdout",
     "output_type": "stream",
     "text": [
      "10/10 - 1s - loss: 1.1542 - sparse_categorical_accuracy: 0.3512 - 1s/epoch - 138ms/step\n",
      "\n",
      "loss_test: 1.154200792312622\n",
      "acc_test: 0.3511705696582794\n"
     ]
    }
   ],
   "source": [
    "# evaluation on testing data\n",
    "\n",
    "loss_test, acc_test = rnn_model.evaluate(X_test, Y_test_enc, verbose=2)\n",
    "\n",
    "# predict probabilities\n",
    "y_hat_enc = rnn_model.predict(X_test, verbose=0)\n",
    "y_hat_enc = np.argmax(y_hat_enc, axis=1)\n",
    "\n",
    "# decode integers back to str categories\n",
    "y_hat     = label_encoder.inverse_transform(y_hat_enc)\n",
    "\n",
    "print(\"\\nloss_test:\", loss_test)\n",
    "print(\"acc_test:\", acc_test)"
   ]
  },
  {
   "cell_type": "code",
   "execution_count": 44,
   "metadata": {},
   "outputs": [
    {
     "name": "stdout",
     "output_type": "stream",
     "text": [
      "~~~ Model Metrics ~~~          \n",
      "\n",
      "Accuracy:\t35.117 %          \n",
      "Precision:\t34.281 %          \n",
      "Recall:\t\t35.117 %          \n",
      "F-1 Score:\t24.815 %          \n",
      "\n",
      "Confusion Matrix:\n",
      "[[15 87  3]\n",
      " [ 5 88  3]\n",
      " [15 81  2]]          \n",
      "\n",
      "Confusion Report:\n",
      "              precision    recall  f1-score   support\n",
      "\n",
      "           0       0.43      0.14      0.21       105\n",
      "           1       0.34      0.92      0.50        96\n",
      "           2       0.25      0.02      0.04        98\n",
      "\n",
      "    accuracy                           0.35       299\n",
      "   macro avg       0.34      0.36      0.25       299\n",
      "weighted avg       0.34      0.35      0.25       299\n",
      "\n"
     ]
    }
   ],
   "source": [
    "cmd = compute_metrics(Y_test_enc, y_hat_enc)"
   ]
  },
  {
   "cell_type": "code",
   "execution_count": 45,
   "metadata": {
    "scrolled": false
   },
   "outputs": [
    {
     "data": {
      "text/plain": [
       "<sklearn.metrics._plot.confusion_matrix.ConfusionMatrixDisplay at 0x7f8f98762c80>"
      ]
     },
     "execution_count": 45,
     "metadata": {},
     "output_type": "execute_result"
    },
    {
     "data": {
      "image/png": "[encoded data removed]",
      "text/plain": [
       "<Figure size 640x480 with 2 Axes>"
      ]
     },
     "metadata": {},
     "output_type": "display_data"
    }
   ],
   "source": [
    "cmd.plot()"
   ]
  },
  {
   "cell_type": "markdown",
   "metadata": {},
   "source": [
    "# 7. Conclusion"
   ]
  },
  {
   "cell_type": "markdown",
   "metadata": {},
   "source": [
    "#### Review"
   ]
  },
  {
   "cell_type": "markdown",
   "metadata": {},
   "source": [
    "The ANN model demonstrated a relatively balanced performance across precision, recall, and F1-score for each class. The confusion matrix for ANN showed that the model is performing well in distinguishing between classes, especially for the class 2: football and class 1: politics categories.\n",
    "\n",
    "The CNN model also exhibited a good balanced performance, but the precision and recall for class 0 (science) are slightly lower than the other classes. The confusion matrix suggested some difficulty in correctly classifying science articles.\n",
    "\n",
    "The LSTM model struggled significantly as evidenced by the low accuracy, precision and F1 scores. The confusion matrix also indicated notable misclassification across all classes overall."
   ]
  },
  {
   "cell_type": "markdown",
   "metadata": {},
   "source": [
    "#### Comparison"
   ]
  },
  {
   "cell_type": "markdown",
   "metadata": {},
   "source": [
    "Comparison\n",
    "The ANN model outperformed both CNN and LSTM-RNN models in terms of accuracy, precision, recall, and F1 score. It demonstrates a more balanced performance across all classes as proven by the Confusion matrix of ANN.\n",
    "\n",
    "The CNN model performed reasonably well but seems to struggle with precision and recall for one of the labels, which is science (class 0).  This could indicate some challenges in extracting/filtering relevant features from the count-vectorized data which does not contain any semantic relationships.\n",
    "\n",
    "The LSTM model performed poorly compared to ANN and CNN models. It had a low accuracy and F1 score, suggesting challenges in capturing meaningful patterns from the count vectorized data. This could be due to the factor that LSTM expects a somewhat sequential nature of data, which might not be well-suited for the provided representation vector. Also, the count-vectorized records miss out on the relative positioning and order of the words since they just tell the count of words present in the news article. Information such as semantic relationship and contextual position of the words could have helped the recurrent gates to understand the sequence and their relative importance better."
   ]
  },
  {
   "cell_type": "markdown",
   "metadata": {},
   "source": [
    "#### Remark"
   ]
  },
  {
   "cell_type": "markdown",
   "metadata": {},
   "source": [
    "- Best Model: The ANN model was the best-performing model among the three, providing the highest accuracy and balanced performance across all metrics.\n",
    "\n",
    "\n",
    "\n",
    "- Worst Model: The LSTM model performed the worst, with significantly lower accuracy. This may be due to challenges in capturing meaningful sequential patterns/semantics in the count vectorized data."
   ]
  },
  {
   "cell_type": "markdown",
   "metadata": {},
   "source": [
    "Given the count-vectorized data with three labels and the goal of text classification, it was expected that the models that would capture the semantic meaning of words and their relative interactions effectively, could be expected to perform well. I personally expected the ANNs and CNNs to do a better job. And as proven by the accuracy metrics and confusion matrices, the better models were indeed ANN and CNNs. LSTMs on the other hand are better designed for sequential data, and may not be the best choice here, as displayed by their poor performance.\n",
    "\n",
    "\n",
    "Also, one significant limitation in the provided count-vectorized data is the absence of word position, which in-turn misses out on the contextual meaning of the words. Though embedding layer did constitute a part of the model, but since the count-vector data only provided the information of which words were present and how many times in an article, it might have limited/restricted the creation of meaningful embeddings during the training process and thus affecting LSTMs performance.\n",
    "\n",
    "\n",
    "In a nutshell, the results proved out to be as expected."
   ]
  },
  {
   "cell_type": "markdown",
   "metadata": {},
   "source": [
    "---"
   ]
  },
  {
   "cell_type": "markdown",
   "metadata": {},
   "source": [
    "X - X"
   ]
  },
  {
   "cell_type": "markdown",
   "metadata": {},
   "source": [
    "---\n",
    "---"
   ]
  }
 ],
 "metadata": {
  "kernelspec": {
   "display_name": "computer_vision",
   "language": "python",
   "name": "computer_vision"
  },
  "language_info": {
   "codemirror_mode": {
    "name": "ipython",
    "version": 3
   },
   "file_extension": ".py",
   "mimetype": "text/x-python",
   "name": "python",
   "nbconvert_exporter": "python",
   "pygments_lexer": "ipython3",
   "version": "3.10.3"
  }
 },
 "nbformat": 4,
 "nbformat_minor": 2
}

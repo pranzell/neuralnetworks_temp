{
 "cells": [
  {
   "cell_type": "markdown",
   "metadata": {},
   "source": [
    "# Exam - Part 2 - Question 2\n",
    "---\n",
    "\n",
    "Create a Neural Network that takes in a single greyscale image that is 30 by 30. The network will have two filters, each that use a different 3 by 3 kernel to filter the image using the Keras Conv2D default for the stride and the padding as “same”. The next step in the network will perform 2 by 2 max pooling. The next step will use 4 filters (each with its own 3 by 3 kernel – stride (1,1) – and padding = “same”). The next step will be 2 by 2 max pooling. The next step will flatten and send into a fully connected NN. The output will have three units (three outputs are generated) and will use softmax. All other activation functions (except the last which is softmax) will be ReLU. \n",
    "\n",
    "a)\tDraw this architecture. Make sure it is fully labeled with all sizes and shapes as well as other critical elements. \n",
    "\n",
    "b)\tCreate this architecture in Keras and paste the code here. Specifically, you will need to paste the code your used to define the model, to summarize the model, and to compile the model. In the compile portion, you can use “adam”, “categorical_crossentropy”, and “accuracy” for your metrics. You will not include fitting or running the model. Please also paste the results of your model summary here.  \n",
    "\n",
    "---\n",
    "@ Pranjal Pathak\n"
   ]
  },
  {
   "cell_type": "code",
   "execution_count": 1,
   "metadata": {},
   "outputs": [
    {
     "name": "stderr",
     "output_type": "stream",
     "text": [
      "2023-12-08 16:58:36.863824: I tensorflow/core/platform/cpu_feature_guard.cc:182] This TensorFlow binary is optimized to use available CPU instructions in performance-critical operations.\n",
      "To enable the following instructions: AVX2 FMA, in other operations, rebuild TensorFlow with the appropriate compiler flags.\n"
     ]
    }
   ],
   "source": [
    "# Standard Imports\n",
    "# python 3.11.1 (stable release)\n",
    "\n",
    "import os\n",
    "import sys\n",
    "import numpy as np\n",
    "import pandas as pd\n",
    "\n",
    "import tensorflow as tf\n",
    "from keras.preprocessing.text import Tokenizer\n",
    "from keras.preprocessing.sequence import pad_sequences\n",
    "from keras.models import Sequential\n",
    "from keras.layers import LSTM, Dense, BatchNormalization, Dropout, Flatten, Conv2D, MaxPooling2D\n",
    "from keras.optimizers import RMSprop, Adagrad, SGD, Adam\n",
    "from keras.utils import to_categorical\n",
    "\n",
    "from sklearn.preprocessing import LabelEncoder\n",
    "from sklearn.model_selection import train_test_split\n",
    "from sklearn.metrics import accuracy_score, confusion_matrix, classification_report, ConfusionMatrixDisplay\n",
    "\n",
    "import matplotlib.pyplot as plt\n",
    "import seaborn as sns"
   ]
  },
  {
   "cell_type": "code",
   "execution_count": 2,
   "metadata": {
    "scrolled": false
   },
   "outputs": [
    {
     "name": "stdout",
     "output_type": "stream",
     "text": [
      "Model: \"sequential\"\n",
      "_________________________________________________________________\n",
      " Layer (type)                Output Shape              Param #   \n",
      "=================================================================\n",
      " conv2d (Conv2D)             (None, 30, 30, 2)         20        \n",
      "                                                                 \n",
      " max_pooling2d (MaxPooling2  (None, 15, 15, 2)         0         \n",
      " D)                                                              \n",
      "                                                                 \n",
      " conv2d_1 (Conv2D)           (None, 15, 15, 4)         76        \n",
      "                                                                 \n",
      " max_pooling2d_1 (MaxPoolin  (None, 7, 7, 4)           0         \n",
      " g2D)                                                            \n",
      "                                                                 \n",
      " flatten (Flatten)           (None, 196)               0         \n",
      "                                                                 \n",
      " dense (Dense)               (None, 128)               25216     \n",
      "                                                                 \n",
      " dense_1 (Dense)             (None, 3)                 387       \n",
      "                                                                 \n",
      "=================================================================\n",
      "Total params: 25699 (100.39 KB)\n",
      "Trainable params: 25699 (100.39 KB)\n",
      "Non-trainable params: 0 (0.00 Byte)\n",
      "_________________________________________________________________\n"
     ]
    }
   ],
   "source": [
    "# CNN\n",
    "\n",
    "model = Sequential()\n",
    "\n",
    "# omitted `strides` param to use default value\n",
    "model.add(Conv2D(filters=2, kernel_size=(3, 3), padding='same', activation='relu', input_shape=(30, 30, 1)))\n",
    "model.add(MaxPooling2D(pool_size=(2, 2)))\n",
    "\n",
    "model.add(Conv2D(filters=4, kernel_size=(3, 3), strides=(1, 1), padding='same', activation='relu'))\n",
    "model.add(MaxPooling2D(pool_size=(2, 2)))\n",
    "\n",
    "model.add(Flatten())\n",
    "\n",
    "# ** not specified though, adding one hidden layer **\n",
    "model.add(Dense(128, activation='relu'))\n",
    "\n",
    "model.add(Dense(3, activation='softmax'))\n",
    "\n",
    "\n",
    "# model summary\n",
    "model.summary()\n",
    "\n",
    "# compilation\n",
    "model.compile(optimizer='adam', loss='categorical_crossentropy', metrics=['accuracy'])"
   ]
  }
 ],
 "metadata": {
  "kernelspec": {
   "display_name": "computer_vision",
   "language": "python",
   "name": "computer_vision"
  },
  "language_info": {
   "codemirror_mode": {
    "name": "ipython",
    "version": 3
   },
   "file_extension": ".py",
   "mimetype": "text/x-python",
   "name": "python",
   "nbconvert_exporter": "python",
   "pygments_lexer": "ipython3",
   "version": "3.10.3"
  }
 },
 "nbformat": 4,
 "nbformat_minor": 2
}
